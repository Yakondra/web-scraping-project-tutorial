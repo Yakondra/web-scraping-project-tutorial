{
    "cells": [
        {
            "cell_type": "markdown",
            "metadata": {},
            "source": [
                "# Explore here\n",
                "\n",
                "It's recommended to use this notebook for exploration purposes."
            ]
        },
        {
            "cell_type": "code",
            "execution_count": 13,
            "metadata": {},
            "outputs": [
                {
                    "data": {
                        "text/html": [
                            "<div>\n",
                            "<style scoped>\n",
                            "    .dataframe tbody tr th:only-of-type {\n",
                            "        vertical-align: middle;\n",
                            "    }\n",
                            "\n",
                            "    .dataframe tbody tr th {\n",
                            "        vertical-align: top;\n",
                            "    }\n",
                            "\n",
                            "    .dataframe thead th {\n",
                            "        text-align: right;\n",
                            "    }\n",
                            "</style>\n",
                            "<table border=\"1\" class=\"dataframe\">\n",
                            "  <thead>\n",
                            "    <tr style=\"text-align: right;\">\n",
                            "      <th></th>\n",
                            "      <th>Quarter date</th>\n",
                            "      <th>Incomes</th>\n",
                            "    </tr>\n",
                            "  </thead>\n",
                            "  <tbody>\n",
                            "    <tr>\n",
                            "      <th>0</th>\n",
                            "      <td>2023-09-30</td>\n",
                            "      <td>23350</td>\n",
                            "    </tr>\n",
                            "    <tr>\n",
                            "      <th>1</th>\n",
                            "      <td>2023-06-30</td>\n",
                            "      <td>24927</td>\n",
                            "    </tr>\n",
                            "    <tr>\n",
                            "      <th>2</th>\n",
                            "      <td>2023-03-31</td>\n",
                            "      <td>23329</td>\n",
                            "    </tr>\n",
                            "    <tr>\n",
                            "      <th>3</th>\n",
                            "      <td>2022-12-31</td>\n",
                            "      <td>24318</td>\n",
                            "    </tr>\n",
                            "    <tr>\n",
                            "      <th>4</th>\n",
                            "      <td>2022-09-30</td>\n",
                            "      <td>21454</td>\n",
                            "    </tr>\n",
                            "  </tbody>\n",
                            "</table>\n",
                            "</div>"
                        ],
                        "text/plain": [
                            "  Quarter date Incomes\n",
                            "0   2023-09-30   23350\n",
                            "1   2023-06-30   24927\n",
                            "2   2023-03-31   23329\n",
                            "3   2022-12-31   24318\n",
                            "4   2022-09-30   21454"
                        ]
                    },
                    "execution_count": 13,
                    "metadata": {},
                    "output_type": "execute_result"
                }
            ],
            "source": [
                "import requests\n",
                "import time\n",
                "import pandas as pd\n",
                "import io\n",
                "from bs4 import BeautifulSoup as bs\n",
                "\n",
                "\n",
                "url = 'https://www.macrotrends.net/stocks/charts/TSLA/tesla/revenue'\n",
                "#header for all browsers\n",
                "headers = {\"User-Agent\": \"Mozilla/5.0 (Macintosh; Intel Mac OS X 10_11_5) AppleWebKit/537.36 (KHTML, like Gecko) Chrome/50.0.2661.102 Safari/537.36\"}\n",
                "\n",
                "html_data = requests.get(url, time.sleep(10), headers=headers).text\n",
                "soup = bs(html_data, \"html.parser\")\n",
                "tablas = soup.find_all('table')\n",
                "t_revenue = tablas[1]\n",
                "t_body = t_revenue.find('tbody')\n",
                "\n",
                "date = []\n",
                "sales = []\n",
                "\n",
                "for row in t_body.find_all('tr'):\n",
                "    datas_row = []  # Lista para almacenar los datos de esta fila\n",
                "    for cell in row.find_all('td'):\n",
                "        data = cell.get_text()\n",
                "        datas_row.append(data)\n",
                "    # Agrega los datos de la fila a las listas existentes\n",
                "    if len(datas_row) >= 2:  # Verifica que haya al menos dos elementos en la fila\n",
                "        date.append(datas_row[0])\n",
                "        sales.append(datas_row[1])\n",
                "\n",
                "sales = [data.replace(',', '').replace('$', '') for data in sales]\n",
                "\n",
                "tesla_quarterly = pd.DataFrame({'Quarter date': date, 'Incomes': sales})\n",
                "tesla_quarterly.head()\n",
                "\n"
            ]
        },
        {
            "cell_type": "code",
            "execution_count": null,
            "metadata": {},
            "outputs": [],
            "source": []
        }
    ],
    "metadata": {
        "kernelspec": {
            "display_name": "Python 3.8.13 64-bit ('3.8.13')",
            "language": "python",
            "name": "python3"
        },
        "language_info": {
            "codemirror_mode": {
                "name": "ipython",
                "version": 3
            },
            "file_extension": ".py",
            "mimetype": "text/x-python",
            "name": "python",
            "nbconvert_exporter": "python",
            "pygments_lexer": "ipython3",
            "version": "3.11.4"
        },
        "orig_nbformat": 4,
        "vscode": {
            "interpreter": {
                "hash": "110cc1dee26208153f2972f08a2ad52b6a56238dc66d48e87fb757ef2996db56"
            }
        }
    },
    "nbformat": 4,
    "nbformat_minor": 2
}
